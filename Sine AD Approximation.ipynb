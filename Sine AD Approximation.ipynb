{
 "cells": [
  {
   "cell_type": "code",
   "execution_count": 1,
   "id": "608f62bb",
   "metadata": {},
   "outputs": [],
   "source": [
    "import numpy as np\n",
    "import matplotlib.pyplot as plt"
   ]
  },
  {
   "cell_type": "code",
   "execution_count": 2,
   "id": "bc216206",
   "metadata": {},
   "outputs": [],
   "source": [
    "advection = 10\n",
    "alpha = 1/advection\n",
    "\n",
    "xL = 0\n",
    "xR = 1\n",
    "yL = 0\n",
    "yR = 1\n",
    "\n",
    "scaling_alpha = 1/(xR-xL)\n",
    "scaling_beta = (-xL)/(xR - xL)"
   ]
  },
  {
   "cell_type": "code",
   "execution_count": 3,
   "id": "af742d90",
   "metadata": {},
   "outputs": [],
   "source": [
    "i = 100 # number of colocation points\n",
    "xi = np.linspace(xL, xR, i+2)\n",
    "\n",
    "x = np.linspace(xL,xR,i)\n",
    "\n",
    "xi = xi[1:-1]\n",
    "\n",
    "xi = scaling_alpha*xi + scaling_beta\n",
    "\n"
   ]
  },
  {
   "cell_type": "code",
   "execution_count": 4,
   "id": "a49726f1",
   "metadata": {},
   "outputs": [
    {
     "name": "stdout",
     "output_type": "stream",
     "text": [
      "2.5220684199873393e+19\n"
     ]
    }
   ],
   "source": [
    "\n",
    "n_sin = 101\n",
    "#This is the number of sin functions we want in our system, the total size of the matrix will be this plus 1\n",
    "\n",
    "A = np.zeros((i+2, n_sin+1)) \n",
    "\n",
    "R_1_i = np.zeros(n_sin)\n",
    "R_2_i = np.zeros(n_sin)\n",
    "#These are matrices that store the random coefficients R_i that are put into the sine function\n",
    "#They have the same size as n_sine because the random variable set for each column is the same\n",
    "\n",
    "for j in range (n_sin):\n",
    "    #initialize random variable values\n",
    "    R_1_i[j] = np.random.default_rng().uniform(-1,1)\n",
    "    R_2_i[j] = np.random.default_rng().uniform(-1,1)\n",
    "\n",
    "A[0, n_sin] = 1\n",
    "A[i+1, n_sin] = 1\n",
    "\n",
    "\n",
    "#Change the value for the boundary points to equal 1 because of the bias\n",
    "\n",
    "#creates the first two rows through iteration\n",
    "for j in range (i+2):\n",
    "    for k in range(n_sin):\n",
    "        if(j == 0):\n",
    "            A[j][k] = np.sin(R_1_i[k]*(xL*scaling_alpha + scaling_beta) + R_2_i[k])\n",
    "            \n",
    "        elif(j == 1):\n",
    "            A[j][k] = np.sin(R_1_i[k]*(xR*scaling_alpha + scaling_beta) + R_2_i[k])\n",
    "            \n",
    "        else:\n",
    "            A[j][k] = ((xR-xL)*alpha*scaling_alpha*(R_1_i[k]**2)*-np.sin(R_1_i[k]*xi[j-2] + R_2_i[k])) - R_1_i[k]*np.cos(R_1_i[k]*xi[j-2] + R_2_i[k])\n",
    "\n",
    "print(np.linalg.cond(A))\n",
    "\n",
    "b_vector = np.zeros(i+2)\n",
    "\n",
    "b_vector[0] = yL\n",
    "\n",
    "b_vector[1] = yR\n"
   ]
  },
  {
   "cell_type": "code",
   "execution_count": 5,
   "id": "edf33e94",
   "metadata": {},
   "outputs": [
    {
     "data": {
      "text/plain": [
       "[<matplotlib.lines.Line2D at 0x18ff8e7d7e0>]"
      ]
     },
     "execution_count": 5,
     "metadata": {},
     "output_type": "execute_result"
    },
    {
     "data": {
      "image/png": "[encoded data removed]",
      "text/plain": [
       "<Figure size 640x480 with 1 Axes>"
      ]
     },
     "metadata": {},
     "output_type": "display_data"
    }
   ],
   "source": [
    "coeff = np.matmul(np.linalg.pinv(A), b_vector)\n",
    "\n",
    "N = 100 # No of predictions\n",
    "\n",
    "y_sin = np.zeros(N)\n",
    "\n",
    "x = np.linspace(xL, xR, N)\n",
    "\n",
    "y_exact = yL + (yR-yL)*(np.exp((x-xL)/(alpha*(xR-xL))) - 1)/(np.exp(1/alpha) - 1 )\n",
    "\n",
    "x_scaled = scaling_alpha*x + scaling_beta\n",
    "\n",
    "for ith in range(N):\n",
    "\n",
    "    for j in range(n_sin):\n",
    "        y_sin[ith] = y_sin[ith] + coeff[j] * np.sin(R_1_i[j]*x_scaled[ith]+R_2_i[j])\n",
    "    y_sin[ith] = y_sin[ith] + coeff[n_sin]\n",
    "\n",
    "\n",
    "plt.plot(x,y_sin, 'r.')\n",
    "\n",
    "plt.plot(x, y_exact)"
   ]
  },
  {
   "cell_type": "code",
   "execution_count": 6,
   "id": "047149e0",
   "metadata": {},
   "outputs": [
    {
     "name": "stdout",
     "output_type": "stream",
     "text": [
      "0.0035613318813820295\n"
     ]
    }
   ],
   "source": [
    "error = np.sqrt((np.sum(y_exact - y_sin)**2)/N)\n",
    "print(error)"
   ]
  },
  {
   "cell_type": "code",
   "execution_count": null,
   "id": "80e3034b",
   "metadata": {},
   "outputs": [],
   "source": []
  },
  {
   "cell_type": "code",
   "execution_count": null,
   "id": "2708c10a",
   "metadata": {},
   "outputs": [],
   "source": []
  }
 ],
 "metadata": {
  "kernelspec": {
   "display_name": "Python 3 (ipykernel)",
   "language": "python",
   "name": "python3"
  },
  "language_info": {
   "codemirror_mode": {
    "name": "ipython",
    "version": 3
   },
   "file_extension": ".py",
   "mimetype": "text/x-python",
   "name": "python",
   "nbconvert_exporter": "python",
   "pygments_lexer": "ipython3",
   "version": "3.10.9"
  }
 },
 "nbformat": 4,
 "nbformat_minor": 5
}
